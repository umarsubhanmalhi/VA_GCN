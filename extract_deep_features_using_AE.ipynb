{
 "cells": [
  {
   "cell_type": "code",
   "execution_count": 1,
   "metadata": {},
   "outputs": [],
   "source": [
    "import numpy as np\n",
    "feats_file = 'D:/School/FARS/Dataset/Men/Men_bought_together/' + 'feats.npy'\n",
    "node_features = np.load(feats_file)"
   ]
  },
  {
   "cell_type": "code",
   "execution_count": 2,
   "metadata": {},
   "outputs": [],
   "source": [
    "node_features.shape\n",
    "x=node_features\n",
    "x\n",
    "np.random.seed(1337)"
   ]
  },
  {
   "cell_type": "code",
   "execution_count": 3,
   "metadata": {},
   "outputs": [],
   "source": [
    "from time import time\n",
    "import keras.backend as K\n",
    "from keras.layers import Dense, Input\n",
    "from keras.models import Model\n",
    "from keras.optimizers import SGD\n",
    "from keras import callbacks\n",
    "from keras.initializers import VarianceScaling"
   ]
  },
  {
   "cell_type": "code",
   "execution_count": 6,
   "metadata": {},
   "outputs": [],
   "source": [
    "def autoencoder(dims, act='relu', init='glorot_uniform'):\n",
    "    n_stacks = len(dims) - 1\n",
    "    # input\n",
    "    input_img = Input(shape=(dims[0],), name='input')\n",
    "    x = input_img\n",
    "    # internal layers in encoder\n",
    "    for i in range(n_stacks-1):\n",
    "        x = Dense(dims[i + 1], activation=act, kernel_initializer=init, name='encoder_%d' % i)(x)\n",
    "\n",
    "    # hidden layer\n",
    "    encoded = Dense(dims[-1], kernel_initializer=init, name='encoder_%d' % (n_stacks - 1))(x)  # hidden layer, features are extracted from here\n",
    "\n",
    "    x = encoded\n",
    "    # internal layers in decoder\n",
    "    for i in range(n_stacks-1, 0, -1):\n",
    "        x = Dense(dims[i], activation=act, kernel_initializer=init, name='decoder_%d' % i)(x)\n",
    "\n",
    "    # output\n",
    "    x = Dense(dims[0], kernel_initializer=init, name='decoder_0')(x)\n",
    "    decoded = x\n",
    "    return Model(inputs=input_img, outputs=decoded, name='AE'), Model(inputs=input_img, outputs=encoded, name='encoder')\n"
   ]
  },
  {
   "cell_type": "code",
   "execution_count": 7,
   "metadata": {},
   "outputs": [],
   "source": [
    "x.shape\n",
    "x = np.divide(x, 255.)\n",
    "dims = [x.shape[-1],2048,1024,512,256]\n",
    "init = VarianceScaling(scale=1. / 3., mode='fan_in',\n",
    "                           distribution='uniform')\n",
    "pretrain_optimizer = SGD(lr=0.1, momentum=0.9)\n",
    "pretrain_epochs = 100\n",
    "batch_size = 256\n",
    "save_dir = 'D:/School/FARS/Dataset/Men/Men_bought_together/'"
   ]
  },
  {
   "cell_type": "code",
   "execution_count": 8,
   "metadata": {},
   "outputs": [
    {
     "name": "stderr",
     "output_type": "stream",
     "text": [
      "C:\\Users\\Malhi\\anaconda3\\lib\\site-packages\\keras\\initializers\\initializers_v2.py:120: UserWarning: The initializer VarianceScaling is unseeded and being called multiple times, which will return identical values  each time (even if the initializer is unseeded). Please update your code to provide a seed to the initializer, or avoid using the same initalizer instance more than once.\n",
      "  warnings.warn(\n"
     ]
    }
   ],
   "source": [
    "autoencoder, encoder = autoencoder(dims, init=init)\n",
    "autoencoder.compile(optimizer=pretrain_optimizer, loss='mse')"
   ]
  },
  {
   "cell_type": "code",
   "execution_count": 9,
   "metadata": {},
   "outputs": [
    {
     "name": "stdout",
     "output_type": "stream",
     "text": [
      "Model: \"AE\"\n",
      "_________________________________________________________________\n",
      " Layer (type)                Output Shape              Param #   \n",
      "=================================================================\n",
      " input (InputLayer)          [(None, 4096)]            0         \n",
      "                                                                 \n",
      " encoder_0 (Dense)           (None, 2048)              8390656   \n",
      "                                                                 \n",
      " encoder_1 (Dense)           (None, 1024)              2098176   \n",
      "                                                                 \n",
      " encoder_2 (Dense)           (None, 512)               524800    \n",
      "                                                                 \n",
      " encoder_3 (Dense)           (None, 256)               131328    \n",
      "                                                                 \n",
      " decoder_3 (Dense)           (None, 512)               131584    \n",
      "                                                                 \n",
      " decoder_2 (Dense)           (None, 1024)              525312    \n",
      "                                                                 \n",
      " decoder_1 (Dense)           (None, 2048)              2099200   \n",
      "                                                                 \n",
      " decoder_0 (Dense)           (None, 4096)              8392704   \n",
      "                                                                 \n",
      "=================================================================\n",
      "Total params: 22,293,760\n",
      "Trainable params: 22,293,760\n",
      "Non-trainable params: 0\n",
      "_________________________________________________________________\n"
     ]
    }
   ],
   "source": [
    "autoencoder.summary()"
   ]
  },
  {
   "cell_type": "code",
   "execution_count": 10,
   "metadata": {},
   "outputs": [
    {
     "name": "stdout",
     "output_type": "stream",
     "text": [
      "Epoch 1/100\n",
      "119/119 [==============================] - 22s 182ms/step - loss: 4.2821e-10\n",
      "Epoch 2/100\n",
      "119/119 [==============================] - 22s 185ms/step - loss: 4.1411e-10\n",
      "Epoch 3/100\n",
      "119/119 [==============================] - 22s 181ms/step - loss: 4.0175e-10\n",
      "Epoch 4/100\n",
      "119/119 [==============================] - 23s 197ms/step - loss: 3.9104e-10\n",
      "Epoch 5/100\n",
      "119/119 [==============================] - 23s 197ms/step - loss: 3.8174e-10\n",
      "Epoch 6/100\n",
      "119/119 [==============================] - 24s 199ms/step - loss: 3.7365e-10\n",
      "Epoch 7/100\n",
      "119/119 [==============================] - 24s 199ms/step - loss: 3.6660e-10\n",
      "Epoch 8/100\n",
      "119/119 [==============================] - 24s 200ms/step - loss: 3.6044e-10\n",
      "Epoch 9/100\n",
      "119/119 [==============================] - 24s 200ms/step - loss: 3.5505e-10\n",
      "Epoch 10/100\n",
      "119/119 [==============================] - 23s 196ms/step - loss: 3.5033e-10\n",
      "Epoch 11/100\n",
      "119/119 [==============================] - 24s 200ms/step - loss: 3.4618e-10\n",
      "Epoch 12/100\n",
      "119/119 [==============================] - 24s 201ms/step - loss: 3.4254e-10\n",
      "Epoch 13/100\n",
      "119/119 [==============================] - 24s 200ms/step - loss: 3.3934e-10\n",
      "Epoch 14/100\n",
      "119/119 [==============================] - 24s 201ms/step - loss: 3.3651e-10\n",
      "Epoch 15/100\n",
      "119/119 [==============================] - 25s 207ms/step - loss: 3.3403e-10\n",
      "Epoch 16/100\n",
      "119/119 [==============================] - 25s 211ms/step - loss: 3.3183e-10\n",
      "Epoch 17/100\n",
      "119/119 [==============================] - 23s 196ms/step - loss: 3.2989e-10\n",
      "Epoch 18/100\n",
      "119/119 [==============================] - 23s 194ms/step - loss: 3.2818e-10\n",
      "Epoch 19/100\n",
      "119/119 [==============================] - 23s 197ms/step - loss: 3.2666e-10\n",
      "Epoch 20/100\n",
      "119/119 [==============================] - 24s 198ms/step - loss: 3.2533e-10\n",
      "Epoch 21/100\n",
      "119/119 [==============================] - 23s 193ms/step - loss: 3.2414e-10\n",
      "Epoch 22/100\n",
      "119/119 [==============================] - 22s 187ms/step - loss: 3.2309e-10\n",
      "Epoch 23/100\n",
      "119/119 [==============================] - 22s 187ms/step - loss: 3.2216e-10\n",
      "Epoch 24/100\n",
      "119/119 [==============================] - 22s 187ms/step - loss: 3.2134e-10\n",
      "Epoch 25/100\n",
      "119/119 [==============================] - 22s 187ms/step - loss: 3.2061e-10\n",
      "Epoch 26/100\n",
      "119/119 [==============================] - 22s 187ms/step - loss: 3.1996e-10\n",
      "Epoch 27/100\n",
      "119/119 [==============================] - 22s 187ms/step - loss: 3.1938e-10\n",
      "Epoch 28/100\n",
      "119/119 [==============================] - 22s 186ms/step - loss: 3.1887e-10\n",
      "Epoch 29/100\n",
      "119/119 [==============================] - 23s 195ms/step - loss: 3.1842e-10\n",
      "Epoch 30/100\n",
      "119/119 [==============================] - 23s 190ms/step - loss: 3.1802e-10\n",
      "Epoch 31/100\n",
      "119/119 [==============================] - 22s 187ms/step - loss: 3.1766e-10\n",
      "Epoch 32/100\n",
      "119/119 [==============================] - 22s 188ms/step - loss: 3.1735e-10\n",
      "Epoch 33/100\n",
      "119/119 [==============================] - 22s 189ms/step - loss: 3.1707e-10\n",
      "Epoch 34/100\n",
      "119/119 [==============================] - 22s 187ms/step - loss: 3.1682e-10\n",
      "Epoch 35/100\n",
      "119/119 [==============================] - 22s 187ms/step - loss: 3.1660e-10\n",
      "Epoch 36/100\n",
      "119/119 [==============================] - 22s 187ms/step - loss: 3.1640e-10\n",
      "Epoch 37/100\n",
      "119/119 [==============================] - 22s 187ms/step - loss: 3.1622e-10\n",
      "Epoch 38/100\n",
      "119/119 [==============================] - 22s 188ms/step - loss: 3.1607e-10\n",
      "Epoch 39/100\n",
      "119/119 [==============================] - 22s 187ms/step - loss: 3.1593e-10\n",
      "Epoch 40/100\n",
      "119/119 [==============================] - 22s 188ms/step - loss: 3.1581e-10\n",
      "Epoch 41/100\n",
      "119/119 [==============================] - 22s 187ms/step - loss: 3.1570e-10\n",
      "Epoch 42/100\n",
      "119/119 [==============================] - 23s 190ms/step - loss: 3.1560e-10\n",
      "Epoch 43/100\n",
      "119/119 [==============================] - 22s 188ms/step - loss: 3.1552e-10\n",
      "Epoch 44/100\n",
      "119/119 [==============================] - 22s 187ms/step - loss: 3.1544e-10\n",
      "Epoch 45/100\n",
      "119/119 [==============================] - 22s 187ms/step - loss: 3.1537e-10\n",
      "Epoch 46/100\n",
      "119/119 [==============================] - 22s 188ms/step - loss: 3.1531e-10\n",
      "Epoch 47/100\n",
      "119/119 [==============================] - 22s 188ms/step - loss: 3.1526e-10\n",
      "Epoch 48/100\n",
      "119/119 [==============================] - 22s 187ms/step - loss: 3.1521e-10\n",
      "Epoch 49/100\n",
      "119/119 [==============================] - 22s 188ms/step - loss: 3.1517e-10\n",
      "Epoch 50/100\n",
      "119/119 [==============================] - 22s 188ms/step - loss: 3.1513e-10\n",
      "Epoch 51/100\n",
      "119/119 [==============================] - 22s 187ms/step - loss: 3.1509e-10\n",
      "Epoch 52/100\n",
      "119/119 [==============================] - 22s 187ms/step - loss: 3.1506e-10\n",
      "Epoch 53/100\n",
      "119/119 [==============================] - 22s 187ms/step - loss: 3.1504e-10\n",
      "Epoch 54/100\n",
      "119/119 [==============================] - 22s 187ms/step - loss: 3.1501e-10\n",
      "Epoch 55/100\n",
      "119/119 [==============================] - 22s 187ms/step - loss: 3.1499e-10\n",
      "Epoch 56/100\n",
      "119/119 [==============================] - 22s 187ms/step - loss: 3.1497e-10\n",
      "Epoch 57/100\n",
      "119/119 [==============================] - 23s 189ms/step - loss: 3.1496e-10\n",
      "Epoch 58/100\n",
      "119/119 [==============================] - 22s 188ms/step - loss: 3.1494e-10\n",
      "Epoch 59/100\n",
      "119/119 [==============================] - 22s 188ms/step - loss: 3.1493e-10\n",
      "Epoch 60/100\n",
      "119/119 [==============================] - 22s 188ms/step - loss: 3.1491e-10\n",
      "Epoch 61/100\n",
      "119/119 [==============================] - 22s 188ms/step - loss: 3.1490e-10\n",
      "Epoch 62/100\n",
      "119/119 [==============================] - 22s 188ms/step - loss: 3.1489e-10\n",
      "Epoch 63/100\n",
      "119/119 [==============================] - 22s 187ms/step - loss: 3.1489e-10\n",
      "Epoch 64/100\n",
      "119/119 [==============================] - 22s 188ms/step - loss: 3.1488e-10\n",
      "Epoch 65/100\n",
      "119/119 [==============================] - 22s 188ms/step - loss: 3.1487e-10\n",
      "Epoch 66/100\n",
      "119/119 [==============================] - 22s 188ms/step - loss: 3.1487e-10\n",
      "Epoch 67/100\n",
      "119/119 [==============================] - 22s 188ms/step - loss: 3.1486e-10\n",
      "Epoch 68/100\n",
      "119/119 [==============================] - 22s 188ms/step - loss: 3.1486e-10\n",
      "Epoch 69/100\n",
      "119/119 [==============================] - 22s 188ms/step - loss: 3.1485e-10\n",
      "Epoch 70/100\n",
      "119/119 [==============================] - 22s 188ms/step - loss: 3.1485e-10\n",
      "Epoch 71/100\n",
      "119/119 [==============================] - 22s 188ms/step - loss: 3.1484e-10\n",
      "Epoch 72/100\n",
      "119/119 [==============================] - 22s 188ms/step - loss: 3.1484e-10\n",
      "Epoch 73/100\n",
      "119/119 [==============================] - 22s 189ms/step - loss: 3.1484e-10\n",
      "Epoch 74/100\n",
      "119/119 [==============================] - 22s 188ms/step - loss: 3.1484e-10\n",
      "Epoch 75/100\n",
      "119/119 [==============================] - 22s 188ms/step - loss: 3.1483e-10\n",
      "Epoch 76/100\n",
      "119/119 [==============================] - 22s 188ms/step - loss: 3.1483e-10\n",
      "Epoch 77/100\n",
      "119/119 [==============================] - 22s 188ms/step - loss: 3.1483e-10\n",
      "Epoch 78/100\n",
      "119/119 [==============================] - 22s 188ms/step - loss: 3.1483e-10\n",
      "Epoch 79/100\n",
      "119/119 [==============================] - 22s 188ms/step - loss: 3.1483e-10\n",
      "Epoch 80/100\n",
      "119/119 [==============================] - 22s 188ms/step - loss: 3.1483e-10\n",
      "Epoch 81/100\n",
      "119/119 [==============================] - 22s 189ms/step - loss: 3.1482e-10\n",
      "Epoch 82/100\n",
      "119/119 [==============================] - 22s 188ms/step - loss: 3.1482e-10\n",
      "Epoch 83/100\n",
      "119/119 [==============================] - 23s 189ms/step - loss: 3.1482e-10\n",
      "Epoch 84/100\n",
      "119/119 [==============================] - 23s 192ms/step - loss: 3.1482e-10\n",
      "Epoch 85/100\n",
      "119/119 [==============================] - 22s 188ms/step - loss: 3.1482e-10\n",
      "Epoch 86/100\n",
      "119/119 [==============================] - 22s 187ms/step - loss: 3.1482e-10\n",
      "Epoch 87/100\n",
      "119/119 [==============================] - 22s 188ms/step - loss: 3.1482e-10\n",
      "Epoch 88/100\n",
      "119/119 [==============================] - 22s 188ms/step - loss: 3.1482e-10\n",
      "Epoch 89/100\n",
      "119/119 [==============================] - 22s 187ms/step - loss: 3.1482e-10\n",
      "Epoch 90/100\n",
      "119/119 [==============================] - 22s 188ms/step - loss: 3.1482e-10\n",
      "Epoch 91/100\n",
      "119/119 [==============================] - 22s 188ms/step - loss: 3.1482e-10\n",
      "Epoch 92/100\n",
      "119/119 [==============================] - 22s 187ms/step - loss: 3.1482e-10\n",
      "Epoch 93/100\n",
      "119/119 [==============================] - 22s 188ms/step - loss: 3.1482e-10\n",
      "Epoch 94/100\n",
      "119/119 [==============================] - 22s 188ms/step - loss: 3.1482e-10\n",
      "Epoch 95/100\n",
      "119/119 [==============================] - 22s 187ms/step - loss: 3.1482e-10\n",
      "Epoch 96/100\n",
      "119/119 [==============================] - 22s 188ms/step - loss: 3.1482e-10\n",
      "Epoch 97/100\n",
      "119/119 [==============================] - 22s 188ms/step - loss: 3.1482e-10\n",
      "Epoch 98/100\n",
      "119/119 [==============================] - 22s 188ms/step - loss: 3.1481e-10\n",
      "Epoch 99/100\n",
      "119/119 [==============================] - 22s 187ms/step - loss: 3.1481e-10\n",
      "Epoch 100/100\n",
      "119/119 [==============================] - 22s 187ms/step - loss: 3.1481e-10\n"
     ]
    }
   ],
   "source": [
    "history=autoencoder.fit(x, x, batch_size=batch_size, epochs=pretrain_epochs) #, callbacks=cb)"
   ]
  },
  {
   "cell_type": "code",
   "execution_count": 11,
   "metadata": {},
   "outputs": [
    {
     "data": {
      "text/plain": [
       "[<matplotlib.lines.Line2D at 0x2863fd2dd00>]"
      ]
     },
     "execution_count": 11,
     "metadata": {},
     "output_type": "execute_result"
    },
    {
     "data": {
      "image/png": "[encoded data removed]",
      "text/plain": [
       "<Figure size 640x480 with 1 Axes>"
      ]
     },
     "metadata": {},
     "output_type": "display_data"
    }
   ],
   "source": [
    "v=arr = np.array(history.history['loss'])\n",
    "normalized_v = v / np.sqrt(np.sum(v**2))\n",
    "from matplotlib import pyplot as plt\n",
    "plt.plot(normalized_v)"
   ]
  },
  {
   "cell_type": "code",
   "execution_count": null,
   "metadata": {},
   "outputs": [],
   "source": []
  },
  {
   "cell_type": "code",
   "execution_count": 12,
   "metadata": {},
   "outputs": [
    {
     "data": {
      "text/plain": [
       "[<matplotlib.lines.Line2D at 0x286405ea040>]"
      ]
     },
     "execution_count": 12,
     "metadata": {},
     "output_type": "execute_result"
    },
    {
     "data": {
      "image/png": "[encoded data removed]",
      "text/plain": [
       "<Figure size 640x480 with 1 Axes>"
      ]
     },
     "metadata": {},
     "output_type": "display_data"
    }
   ],
   "source": [
    "plt.plot(history.history['loss'])"
   ]
  },
  {
   "cell_type": "code",
   "execution_count": 13,
   "metadata": {},
   "outputs": [],
   "source": [
    "autoencoder.save_weights(save_dir + '/ae_Men_bought_together.h5')\n",
    "autoencoder.load_weights(save_dir + '/ae_Men_bought_together.h5')"
   ]
  },
  {
   "cell_type": "code",
   "execution_count": 14,
   "metadata": {},
   "outputs": [
    {
     "data": {
      "text/plain": [
       "(30415, 4096)"
      ]
     },
     "execution_count": 14,
     "metadata": {},
     "output_type": "execute_result"
    }
   ],
   "source": [
    "x.shape"
   ]
  },
  {
   "cell_type": "code",
   "execution_count": 15,
   "metadata": {},
   "outputs": [
    {
     "data": {
      "text/plain": [
       "[4.282121601750788e-10,\n",
       " 4.141135212520908e-10,\n",
       " 4.0175174298440197e-10,\n",
       " 3.910391732642182e-10,\n",
       " 3.8174319261230494e-10,\n",
       " 3.7365391336585674e-10,\n",
       " 3.6660210978034513e-10,\n",
       " 3.604425091729979e-10,\n",
       " 3.5505182127693047e-10,\n",
       " 3.503295431528386e-10,\n",
       " 3.4618433120137126e-10,\n",
       " 3.425412731239419e-10,\n",
       " 3.3933675314123946e-10,\n",
       " 3.3651445519033985e-10,\n",
       " 3.340261678363987e-10,\n",
       " 3.318309238498074e-10,\n",
       " 3.2989208587075325e-10,\n",
       " 3.281791227660591e-10,\n",
       " 3.2666475080489477e-10,\n",
       " 3.2532532223683575e-10,\n",
       " 3.241396040465361e-10,\n",
       " 3.2308947184311876e-10,\n",
       " 3.2216013190478066e-10,\n",
       " 3.2133595784245017e-10,\n",
       " 3.2060601395933475e-10,\n",
       " 3.199582820911928e-10,\n",
       " 3.1938388045382737e-10,\n",
       " 3.188745933968562e-10,\n",
       " 3.184220942475946e-10,\n",
       " 3.180212482245537e-10,\n",
       " 3.1766475561134655e-10,\n",
       " 3.173483975604796e-10,\n",
       " 3.1706715031276644e-10,\n",
       " 3.168178774881625e-10,\n",
       " 3.165963047280229e-10,\n",
       " 3.1639924014115195e-10,\n",
       " 3.162245743038028e-10,\n",
       " 3.160691430803553e-10,\n",
       " 3.1593117011397e-10,\n",
       " 3.158083239362952e-10,\n",
       " 3.156992445241258e-10,\n",
       " 3.156019057204418e-10,\n",
       " 3.1551555812470156e-10,\n",
       " 3.154389527360024e-10,\n",
       " 3.1537064626441236e-10,\n",
       " 3.153098337982385e-10,\n",
       " 3.152557936925149e-10,\n",
       " 3.1520774879112423e-10,\n",
       " 3.1516519949370547e-10,\n",
       " 3.1512700782165837e-10,\n",
       " 3.150933403084366e-10,\n",
       " 3.1506322550889365e-10,\n",
       " 3.150361083115172e-10,\n",
       " 3.150123772943658e-10,\n",
       " 3.149910055011418e-10,\n",
       " 3.1497213170972316e-10,\n",
       " 3.149553118309001e-10,\n",
       " 3.1494029606449203e-10,\n",
       " 3.149268901214697e-10,\n",
       " 3.149149829795306e-10,\n",
       " 3.1490443586079664e-10,\n",
       " 3.1489488794278486e-10,\n",
       " 3.1488647800337333e-10,\n",
       " 3.1487903950910834e-10,\n",
       " 3.1487215612635566e-10,\n",
       " 3.148661886775983e-10,\n",
       " 3.1486097062938256e-10,\n",
       " 3.1485614115922544e-10,\n",
       " 3.148517835338538e-10,\n",
       " 3.1484784224211637e-10,\n",
       " 3.148444838174669e-10,\n",
       " 3.1484143070414916e-10,\n",
       " 3.1483873841331445e-10,\n",
       " 3.1483629592266027e-10,\n",
       " 3.1483399220988417e-10,\n",
       " 3.148321325863179e-10,\n",
       " 3.1483024520717606e-10,\n",
       " 3.1482863538379036e-10,\n",
       " 3.1482716433828273e-10,\n",
       " 3.148258875818044e-10,\n",
       " 3.1482469409205294e-10,\n",
       " 3.1482366713575516e-10,\n",
       " 3.1482272344618423e-10,\n",
       " 3.1482169648988645e-10,\n",
       " 3.1482097484492044e-10,\n",
       " 3.148201976888032e-10,\n",
       " 3.1481936502153474e-10,\n",
       " 3.148188099100224e-10,\n",
       " 3.1481836582081257e-10,\n",
       " 3.148177274425734e-10,\n",
       " 3.148173666200904e-10,\n",
       " 3.148170057976074e-10,\n",
       " 3.148164784416707e-10,\n",
       " 3.148160898636121e-10,\n",
       " 3.148157290411291e-10,\n",
       " 3.1481547924094855e-10,\n",
       " 3.148152571963436e-10,\n",
       " 3.1481497964058747e-10,\n",
       " 3.148146465736801e-10,\n",
       " 3.148143412623483e-10]"
      ]
     },
     "execution_count": 15,
     "metadata": {},
     "output_type": "execute_result"
    }
   ],
   "source": [
    "history.history['loss']"
   ]
  },
  {
   "cell_type": "code",
   "execution_count": 16,
   "metadata": {},
   "outputs": [
    {
     "name": "stdout",
     "output_type": "stream",
     "text": [
      "951/951 [==============================] - 11s 11ms/step\n"
     ]
    }
   ],
   "source": [
    "predict_feats=encoder.predict(x)"
   ]
  },
  {
   "cell_type": "code",
   "execution_count": 17,
   "metadata": {},
   "outputs": [
    {
     "data": {
      "text/plain": [
       "array([[ 4.0491409e-07, -2.7079632e-06, -1.1253343e-06, ...,\n",
       "         9.1429024e-07, -2.6799160e-07, -1.0717802e-06],\n",
       "       [ 4.0057989e-07, -2.7907154e-06, -8.9341472e-07, ...,\n",
       "         5.0256426e-07, -9.5399503e-07, -8.2945849e-07],\n",
       "       [ 1.0758692e-06, -2.4361341e-06, -1.0731212e-07, ...,\n",
       "         9.9476370e-07, -1.0075867e-07, -7.3100756e-07],\n",
       "       ...,\n",
       "       [ 4.0880309e-08, -1.8671370e-06, -4.2950649e-07, ...,\n",
       "         9.4365419e-07,  1.2640697e-09, -7.3944562e-07],\n",
       "       [ 8.5163248e-07, -3.0118363e-06, -1.7329853e-06, ...,\n",
       "         1.6793217e-06,  6.4789464e-07, -2.3514760e-07],\n",
       "       [ 1.4150044e-06, -2.6029197e-06,  5.5067147e-07, ...,\n",
       "         1.4260316e-06, -2.9538779e-07, -1.3224701e-06]], dtype=float32)"
      ]
     },
     "execution_count": 17,
     "metadata": {},
     "output_type": "execute_result"
    }
   ],
   "source": [
    "predict_feats"
   ]
  },
  {
   "cell_type": "code",
   "execution_count": 18,
   "metadata": {},
   "outputs": [
    {
     "data": {
      "text/plain": [
       "(30415, 256)"
      ]
     },
     "execution_count": 18,
     "metadata": {},
     "output_type": "execute_result"
    }
   ],
   "source": [
    "predict_feats.shape"
   ]
  },
  {
   "cell_type": "code",
   "execution_count": 19,
   "metadata": {},
   "outputs": [],
   "source": [
    "outfile = 'D:/School/FARS/Dataset/Men/Men_bought_together/' + 'deep_feats.npy'\n",
    "np.save(outfile, predict_feats)"
   ]
  },
  {
   "cell_type": "code",
   "execution_count": 85,
   "metadata": {},
   "outputs": [],
   "source": [
    "x_train = x.astype('float32') / 255.\n",
    "x_train = x_train.reshape((len(x_train), np.prod(x_train.shape[1:])))"
   ]
  },
  {
   "cell_type": "code",
   "execution_count": 86,
   "metadata": {},
   "outputs": [
    {
     "data": {
      "text/plain": [
       "array([[0.        , 0.        , 0.        , ..., 0.        , 0.        ,\n",
       "        0.        ],\n",
       "       [0.        , 0.        , 0.        , ..., 0.        , 0.        ,\n",
       "        0.        ],\n",
       "       [0.        , 0.        , 0.        , ..., 0.        , 0.        ,\n",
       "        0.        ],\n",
       "       ...,\n",
       "       [0.        , 0.        , 0.        , ..., 0.        , 0.00156863,\n",
       "        0.        ],\n",
       "       [0.        , 0.        , 0.        , ..., 0.        , 0.        ,\n",
       "        0.        ],\n",
       "       [0.        , 0.        , 0.        , ..., 0.00609725, 0.        ,\n",
       "        0.        ]], dtype=float32)"
      ]
     },
     "execution_count": 86,
     "metadata": {},
     "output_type": "execute_result"
    }
   ],
   "source": [
    "x_train"
   ]
  },
  {
   "cell_type": "code",
   "execution_count": 87,
   "metadata": {},
   "outputs": [
    {
     "name": "stdout",
     "output_type": "stream",
     "text": [
      "Epoch 1/2\n",
      "194/194 [==============================] - 6s 28ms/step - loss: 0.6931\n",
      "Epoch 2/2\n",
      "194/194 [==============================] - 6s 30ms/step - loss: 0.6931\n"
     ]
    },
    {
     "data": {
      "text/plain": [
       "<keras.callbacks.History at 0x2710ac42190>"
      ]
     },
     "execution_count": 87,
     "metadata": {},
     "output_type": "execute_result"
    }
   ],
   "source": [
    "#note: x_train, x_train :) \n",
    "autoencoder.fit(x_train, x_train,\n",
    "                epochs=2,\n",
    "                batch_size=256,\n",
    "                shuffle=True,)"
   ]
  },
  {
   "cell_type": "code",
   "execution_count": 88,
   "metadata": {},
   "outputs": [
    {
     "name": "stdout",
     "output_type": "stream",
     "text": [
      "1552/1552 [==============================] - 2s 1ms/step\n"
     ]
    }
   ],
   "source": [
    "encoded_imgs = encoder.predict(x)"
   ]
  },
  {
   "cell_type": "code",
   "execution_count": 91,
   "metadata": {},
   "outputs": [
    {
     "data": {
      "text/plain": [
       "array([[0.85907304, 0.        , 0.        , ..., 1.2691962 , 0.        ,\n",
       "        0.        ],\n",
       "       [0.        , 0.3308149 , 0.        , ..., 0.92131317, 4.0747538 ,\n",
       "        0.7195615 ],\n",
       "       [0.93763256, 1.0027614 , 0.        , ..., 2.1817882 , 0.15392062,\n",
       "        0.        ],\n",
       "       ...,\n",
       "       [1.1867756 , 0.        , 0.15245122, ..., 0.        , 0.5030025 ,\n",
       "        0.12496059],\n",
       "       [1.7067939 , 0.        , 0.        , ..., 0.        , 0.        ,\n",
       "        0.        ],\n",
       "       [0.36680722, 0.        , 0.        , ..., 0.        , 1.8890053 ,\n",
       "        0.        ]], dtype=float32)"
      ]
     },
     "execution_count": 91,
     "metadata": {},
     "output_type": "execute_result"
    }
   ],
   "source": [
    "encoded_imgs"
   ]
  },
  {
   "cell_type": "code",
   "execution_count": 95,
   "metadata": {},
   "outputs": [
    {
     "data": {
      "text/plain": [
       "array([[0.85907304, 0.        , 0.        , ..., 1.2691962 , 0.        ,\n",
       "        0.        ],\n",
       "       [0.        , 0.3308149 , 0.        , ..., 0.92131317, 4.0747538 ,\n",
       "        0.7195615 ],\n",
       "       [0.93763256, 1.0027614 , 0.        , ..., 2.1817882 , 0.15392062,\n",
       "        0.        ],\n",
       "       ...,\n",
       "       [1.1867756 , 0.        , 0.15245122, ..., 0.        , 0.5030025 ,\n",
       "        0.12496059],\n",
       "       [1.7067939 , 0.        , 0.        , ..., 0.        , 0.        ,\n",
       "        0.        ],\n",
       "       [0.36680722, 0.        , 0.        , ..., 0.        , 1.8890053 ,\n",
       "        0.        ]], dtype=float32)"
      ]
     },
     "execution_count": 95,
     "metadata": {},
     "output_type": "execute_result"
    }
   ],
   "source": [
    "arr = np.array(encoded_imgs)\n",
    "  \n",
    "arr"
   ]
  },
  {
   "cell_type": "code",
   "execution_count": 96,
   "metadata": {},
   "outputs": [],
   "source": [
    "outfile = 'D:/School/PHD research/experiments/Dataset/Men_also_bought/' + 'deep_feats.npy'\n",
    "np.save(outfile, arr)"
   ]
  },
  {
   "cell_type": "code",
   "execution_count": null,
   "metadata": {},
   "outputs": [],
   "source": []
  }
 ],
 "metadata": {
  "kernelspec": {
   "display_name": "Python 3 (ipykernel)",
   "language": "python",
   "name": "python3"
  },
  "language_info": {
   "codemirror_mode": {
    "name": "ipython",
    "version": 3
   },
   "file_extension": ".py",
   "mimetype": "text/x-python",
   "name": "python",
   "nbconvert_exporter": "python",
   "pygments_lexer": "ipython3",
   "version": "3.9.13"
  }
 },
 "nbformat": 4,
 "nbformat_minor": 2
}
